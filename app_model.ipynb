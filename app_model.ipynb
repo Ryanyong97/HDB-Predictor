{
 "cells": [
  {
   "cell_type": "code",
   "execution_count": 2,
   "metadata": {},
   "outputs": [],
   "source": [
    "from sklearn.model_selection import train_test_split\n",
    "from sklearn.linear_model import LinearRegression\n",
    "import pickle\n",
    "import pandas as pd"
   ]
  },
  {
   "cell_type": "code",
   "execution_count": 5,
   "metadata": {},
   "outputs": [],
   "source": [
    "hdb = pd.read_csv(r'/Users/ryanyong/GA/personal/project_2/datasets/hdb_cleaned_final_final.csv'\n",
    "                 , index_col=0, low_memory=False)"
   ]
  },
  {
   "cell_type": "code",
   "execution_count": 7,
   "metadata": {},
   "outputs": [],
   "source": [
    "# Separate to X and y\n",
    "y = hdb['resale_price']\n",
    "X = hdb.drop(columns = ['resale_price', 'floor_type', 'pri_sch_name', 'mrt_name',\n",
    "                        'nearby_top_sch','prop_one_room','prop_two_room', 'prop_three_room', 'prop_four_room', \n",
    "                        'prop_five_room', 'prop_exec', 'prop_multigen', 'prop_studio_apt',\n",
    "                        'flat_model_Adjoined flat', 'flat_model_Apartment', 'flat_model_DBSS', \n",
    "                          'flat_model_Improved', 'flat_model_Improved-Maisonette', 'flat_model_Maisonette',\n",
    "                            'flat_model_Model A', 'flat_model_Model A-Maisonette', 'flat_model_Model A2',\n",
    "                              'flat_model_Multi Generation', 'flat_model_New Generation', \n",
    "                              'flat_model_Premium Apartment', 'flat_model_Premium Apartment Loft', \n",
    "                              'flat_model_Premium Maisonette', 'flat_model_Simplified', \n",
    "                              'flat_model_Standard', 'flat_model_Terrace', 'flat_model_Type S1', \n",
    "                              'flat_model_Type S2',\n",
    "                              'region_East', 'region_North', 'region_North East','region_West', \n",
    "                              'North South Line', 'North East line', 'East West Line', 'Circle Line', \n",
    "                              'Down Town Line', 'Thomson East Coast Line'])\n",
    "\n",
    "# set default values\n",
    "tranc_year_default = 2024\n",
    "tranc_month_default = 3\n",
    "multistorey_cp_default = 1\n",
    "mall_within_2km_default = 1\n",
    "hawker_within_2km_default = 1\n",
    "bus_interchange_default = 0\n",
    "floor_density_default = 0.5\n",
    "\n",
    "# Split data"
   ]
  },
  {
   "cell_type": "code",
   "execution_count": 8,
   "metadata": {},
   "outputs": [],
   "source": [
    "# Split data\n",
    "X_train, X_test, y_train, y_test = train_test_split(X, y, test_size=0.2, random_state=123)\n",
    "\n",
    "# Build model\n",
    "model = LinearRegression()\n",
    "model.fit(X_train, y_train)\n",
    "# saving the trained mode\n",
    "pickle.dump(model, open('hdb_model.pkl', 'wb'))\n"
   ]
  },
  {
   "cell_type": "code",
   "execution_count": null,
   "metadata": {},
   "outputs": [],
   "source": []
  }
 ],
 "metadata": {
  "kernelspec": {
   "display_name": "base",
   "language": "python",
   "name": "python3"
  },
  "language_info": {
   "codemirror_mode": {
    "name": "ipython",
    "version": 3
   },
   "file_extension": ".py",
   "mimetype": "text/x-python",
   "name": "python",
   "nbconvert_exporter": "python",
   "pygments_lexer": "ipython3",
   "version": "3.11.5"
  }
 },
 "nbformat": 4,
 "nbformat_minor": 2
}
